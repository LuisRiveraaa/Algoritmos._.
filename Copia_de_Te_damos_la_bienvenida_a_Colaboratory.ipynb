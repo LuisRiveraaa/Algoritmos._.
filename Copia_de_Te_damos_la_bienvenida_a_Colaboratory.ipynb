{
  "cells": [
    {
      "cell_type": "markdown",
      "metadata": {
        "id": "view-in-github",
        "colab_type": "text"
      },
      "source": [
        "<a href=\"https://colab.research.google.com/github/LuisRiveraaa/Algoritmos._./blob/main/Copia_de_Te_damos_la_bienvenida_a_Colaboratory.ipynb\" target=\"_parent\"><img src=\"https://colab.research.google.com/assets/colab-badge.svg\" alt=\"Open In Colab\"/></a>"
      ]
    },
    {
      "cell_type": "code",
      "source": [
        "#EJERCICIO1\n",
        "import random\n",
        "\n",
        "A=[]\n",
        "N=1000\n",
        "for i in range (N):\n",
        "  val = random.randint (0, 255)\n",
        "  A.append(val)\n",
        "\n",
        "A.sort()\n",
        "vmin=A[0]\n",
        "vmax=A[-1]\n",
        "print (\"Valor minimo de tension [V]: \",vmin)\n",
        "print (\"Valor maximo de tension [V]: \",vmax)\n",
        "print (\"Promedio de valores de tension [V]: \",(sum(A))/N)"
      ],
      "metadata": {
        "id": "0wslnWMUA6Gi",
        "outputId": "e533e75f-b5d7-4170-f821-9e30b92b0ffc",
        "colab": {
          "base_uri": "https://localhost:8080/"
        }
      },
      "execution_count": null,
      "outputs": [
        {
          "output_type": "stream",
          "name": "stdout",
          "text": [
            "Valor minimo de tension [V]:  0\n",
            "Valor maximo de tension [V]:  255\n",
            "Promedio de valores de tension [V]:  128.999\n"
          ]
        }
      ]
    },
    {
      "cell_type": "code",
      "source": [
        "#EJERCICIO2\n",
        "\n",
        "import random\n",
        "import math\n",
        "A=[]\n",
        "N=1000\n",
        "for i in range (N):\n",
        "  val = random.randint (0, 255)\n",
        "  A.append(val)\n",
        "e=0\n",
        "B=[]\n",
        "for i in range (N):\n",
        "    val2= A[e] **2\n",
        "    e=e+1\n",
        "    B.append(val2)\n",
        "print (\"Voltaje RMS para CC: \",math.sqrt((1/N)*(sum(B))))"
      ],
      "metadata": {
        "id": "5nlqZiU0SF7U",
        "outputId": "c7cbe380-44b8-4e48-af98-3305251680c8",
        "colab": {
          "base_uri": "https://localhost:8080/"
        }
      },
      "execution_count": null,
      "outputs": [
        {
          "output_type": "stream",
          "name": "stdout",
          "text": [
            "Voltaje RMS para CC:  143.30569772343318\n"
          ]
        }
      ]
    },
    {
      "cell_type": "code",
      "source": [
        "#EJERCICIO3\n",
        "\n",
        "P=int(input(\"Ingrese el valor del voltaje pico[V]: \"))\n",
        "A=[]\n",
        "N=1000\n",
        "for i in range (N):\n",
        "  val = random.randint (-P, P)\n",
        "  A.append(val)\n",
        "e=0\n",
        "B=[]\n",
        "for i in range (N):\n",
        "    val2= A[e] **2\n",
        "    e=e+1\n",
        "    B.append(val2)\n",
        "print (\"Metodo1 Voltaje RMS para AC: \",math.sqrt((1/N)*(sum(B))))\n",
        "\n",
        "print (\"Metodo2 Voltaje RMS para AC: \",P/math.sqrt(2))"
      ],
      "metadata": {
        "id": "OWDvsggRS4sF",
        "outputId": "821cd7fc-4be0-4ed2-9d05-ef7c7d12618d",
        "colab": {
          "base_uri": "https://localhost:8080/"
        }
      },
      "execution_count": null,
      "outputs": [
        {
          "output_type": "stream",
          "name": "stdout",
          "text": [
            "Ingrese el valor del voltaje pico[V]: 60\n",
            "Metodo1 Voltaje RMS para AC:  34.84885937875155\n",
            "Metodo2 Voltaje RMS para AC:  42.426406871192846\n"
          ]
        }
      ]
    },
    {
      "cell_type": "markdown",
      "source": [
        "La formula 2 no tiene en cuenta los saltos que generan un vacio en la toma de datos al crear datos al azar con la libreria random, por su parte la formula 1 toma los datos sin importar que tenga datos secuentes\n",
        "La formula 2 seria usada cuando se entiende que la onda es constante en su variacion."
      ],
      "metadata": {
        "id": "fXQiSslU520C"
      }
    },
    {
      "cell_type": "code",
      "source": [
        "#Generar una lista a bas de los datos entregados\n",
        "\n",
        "\n",
        "palabras=[]\n",
        "for i in range (5):\n",
        "  print (\"Ingrese la palabra\",i+1)\n",
        "  palabra=input()\n",
        "  palabras.append(palabra)\n",
        "\n",
        "#Ordenar los datos de la lista\n",
        "def ordenar_por_tamaño(palabras):\n",
        "  palabras.sort(key=len,reverse=True)\n",
        "\n",
        "ordenar_por_tamaño(palabras)\n",
        "\n",
        "#Eleccion de ordenamiento\n",
        "while True:\n",
        "  print (\"Seleccione una opcion:\")\n",
        "  print (\"1. Orden alfabetico\")\n",
        "  print (\"2. Orden por tamaño, mayor a menor\")\n",
        "  print (\"3. Orden aleatorio\")\n",
        "  print (\"4. Orden inverso al ingresado\")\n",
        "  print (\"5. Orden igual al ingresado\")\n",
        "  print (\"6. Salir\")\n",
        "  seleccion=input()\n",
        "\n",
        "  match seleccion:\n",
        "    case \"1\":\n",
        "      palabras_ordenadas = sorted(palabras)\n",
        "    case \"2\":\n",
        "      palabras_ordenadas = ordenar_por_tamaño (palabras)\n",
        "    case \"3\":\n",
        "      import random\n",
        "      random.shuffle(palabras)\n",
        "      palabras_ordenadas = palabras\n",
        "    case \"4\":\n",
        "      palabras_ordenadas = list(reversed(palabras))\n",
        "    case \"5\":\n",
        "      palabras_ordenadas = palabras\n",
        "    case \"6\":\n",
        "      break\n",
        "    case _:\n",
        "      print (\"Opcion no valida. Elija una opcion del 1 al 6.\")\n",
        "      continue\n",
        "\n",
        "#Mostrar ordenamiento elegido\n",
        "  print (\"\\nPalabras_ordenadas\")\n",
        "  for palabra in palabras_ordenadas:\n",
        "    print (palabra)"
      ],
      "metadata": {
        "colab": {
          "base_uri": "https://localhost:8080/",
          "height": 826
        },
        "id": "alumV74R6nT9",
        "outputId": "19389702-b240-415b-8a28-6394be56e81b"
      },
      "execution_count": 36,
      "outputs": [
        {
          "output_type": "stream",
          "name": "stdout",
          "text": [
            "Ingrese la palabra 1\n",
            "assss\n",
            "Ingrese la palabra 2\n",
            "sass\n",
            "['assss', 'sass']\n",
            "Seleccione una opcion:\n",
            "1. Orden alfabetico\n",
            "2. Orden por tamaño, mayor a menor\n",
            "3. Orden aleatorio\n",
            "4. Orden inverso al ingresado\n",
            "5. Orden igual al ingresado\n",
            "6. Salir\n",
            "1\n",
            "\n",
            "Palabras_ordenadas\n",
            "assss\n",
            "sass\n",
            "Seleccione una opcion:\n",
            "1. Orden alfabetico\n",
            "2. Orden por tamaño, mayor a menor\n",
            "3. Orden aleatorio\n",
            "4. Orden inverso al ingresado\n",
            "5. Orden igual al ingresado\n",
            "6. Salir\n"
          ]
        },
        {
          "output_type": "error",
          "ename": "KeyboardInterrupt",
          "evalue": "ignored",
          "traceback": [
            "\u001b[0;31m---------------------------------------------------------------------------\u001b[0m",
            "\u001b[0;31mKeyboardInterrupt\u001b[0m                         Traceback (most recent call last)",
            "\u001b[0;32m<ipython-input-36-b2565b7d0675>\u001b[0m in \u001b[0;36m<cell line: 18>\u001b[0;34m()\u001b[0m\n\u001b[1;32m     24\u001b[0m   \u001b[0mprint\u001b[0m \u001b[0;34m(\u001b[0m\u001b[0;34m\"5. Orden igual al ingresado\"\u001b[0m\u001b[0;34m)\u001b[0m\u001b[0;34m\u001b[0m\u001b[0;34m\u001b[0m\u001b[0m\n\u001b[1;32m     25\u001b[0m   \u001b[0mprint\u001b[0m \u001b[0;34m(\u001b[0m\u001b[0;34m\"6. Salir\"\u001b[0m\u001b[0;34m)\u001b[0m\u001b[0;34m\u001b[0m\u001b[0;34m\u001b[0m\u001b[0m\n\u001b[0;32m---> 26\u001b[0;31m   \u001b[0mseleccion\u001b[0m\u001b[0;34m=\u001b[0m\u001b[0minput\u001b[0m\u001b[0;34m(\u001b[0m\u001b[0;34m)\u001b[0m\u001b[0;34m\u001b[0m\u001b[0;34m\u001b[0m\u001b[0m\n\u001b[0m\u001b[1;32m     27\u001b[0m \u001b[0;34m\u001b[0m\u001b[0m\n\u001b[1;32m     28\u001b[0m   \u001b[0mmatch\u001b[0m \u001b[0mseleccion\u001b[0m\u001b[0;34m:\u001b[0m\u001b[0;34m\u001b[0m\u001b[0;34m\u001b[0m\u001b[0m\n",
            "\u001b[0;32m/usr/local/lib/python3.10/dist-packages/ipykernel/kernelbase.py\u001b[0m in \u001b[0;36mraw_input\u001b[0;34m(self, prompt)\u001b[0m\n\u001b[1;32m    849\u001b[0m                 \u001b[0;34m\"raw_input was called, but this frontend does not support input requests.\"\u001b[0m\u001b[0;34m\u001b[0m\u001b[0;34m\u001b[0m\u001b[0m\n\u001b[1;32m    850\u001b[0m             )\n\u001b[0;32m--> 851\u001b[0;31m         return self._input_request(str(prompt),\n\u001b[0m\u001b[1;32m    852\u001b[0m             \u001b[0mself\u001b[0m\u001b[0;34m.\u001b[0m\u001b[0m_parent_ident\u001b[0m\u001b[0;34m,\u001b[0m\u001b[0;34m\u001b[0m\u001b[0;34m\u001b[0m\u001b[0m\n\u001b[1;32m    853\u001b[0m             \u001b[0mself\u001b[0m\u001b[0;34m.\u001b[0m\u001b[0m_parent_header\u001b[0m\u001b[0;34m,\u001b[0m\u001b[0;34m\u001b[0m\u001b[0;34m\u001b[0m\u001b[0m\n",
            "\u001b[0;32m/usr/local/lib/python3.10/dist-packages/ipykernel/kernelbase.py\u001b[0m in \u001b[0;36m_input_request\u001b[0;34m(self, prompt, ident, parent, password)\u001b[0m\n\u001b[1;32m    893\u001b[0m             \u001b[0;32mexcept\u001b[0m \u001b[0mKeyboardInterrupt\u001b[0m\u001b[0;34m:\u001b[0m\u001b[0;34m\u001b[0m\u001b[0;34m\u001b[0m\u001b[0m\n\u001b[1;32m    894\u001b[0m                 \u001b[0;31m# re-raise KeyboardInterrupt, to truncate traceback\u001b[0m\u001b[0;34m\u001b[0m\u001b[0;34m\u001b[0m\u001b[0m\n\u001b[0;32m--> 895\u001b[0;31m                 \u001b[0;32mraise\u001b[0m \u001b[0mKeyboardInterrupt\u001b[0m\u001b[0;34m(\u001b[0m\u001b[0;34m\"Interrupted by user\"\u001b[0m\u001b[0;34m)\u001b[0m \u001b[0;32mfrom\u001b[0m \u001b[0;32mNone\u001b[0m\u001b[0;34m\u001b[0m\u001b[0;34m\u001b[0m\u001b[0m\n\u001b[0m\u001b[1;32m    896\u001b[0m             \u001b[0;32mexcept\u001b[0m \u001b[0mException\u001b[0m \u001b[0;32mas\u001b[0m \u001b[0me\u001b[0m\u001b[0;34m:\u001b[0m\u001b[0;34m\u001b[0m\u001b[0;34m\u001b[0m\u001b[0m\n\u001b[1;32m    897\u001b[0m                 \u001b[0mself\u001b[0m\u001b[0;34m.\u001b[0m\u001b[0mlog\u001b[0m\u001b[0;34m.\u001b[0m\u001b[0mwarning\u001b[0m\u001b[0;34m(\u001b[0m\u001b[0;34m\"Invalid Message:\"\u001b[0m\u001b[0;34m,\u001b[0m \u001b[0mexc_info\u001b[0m\u001b[0;34m=\u001b[0m\u001b[0;32mTrue\u001b[0m\u001b[0;34m)\u001b[0m\u001b[0;34m\u001b[0m\u001b[0;34m\u001b[0m\u001b[0m\n",
            "\u001b[0;31mKeyboardInterrupt\u001b[0m: Interrupted by user"
          ]
        }
      ]
    }
  ],
  "metadata": {
    "colab": {
      "toc_visible": true,
      "provenance": [],
      "include_colab_link": true
    },
    "kernelspec": {
      "display_name": "Python 3",
      "name": "python3"
    }
  },
  "nbformat": 4,
  "nbformat_minor": 0
}